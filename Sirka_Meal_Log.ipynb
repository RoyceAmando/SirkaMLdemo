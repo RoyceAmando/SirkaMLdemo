{
  "cells": [
    {
      "cell_type": "markdown",
      "metadata": {
        "id": "view-in-github",
        "colab_type": "text"
      },
      "source": [
        "<a href=\"https://colab.research.google.com/github/RoyceAmando/SirkaMLdemo/blob/main/Sirka_Meal_Log.ipynb\" target=\"_parent\"><img src=\"https://colab.research.google.com/assets/colab-badge.svg\" alt=\"Open In Colab\"/></a>"
      ]
    },
    {
      "cell_type": "code",
      "execution_count": null,
      "metadata": {
        "id": "QyCAsl_4kDkB",
        "colab": {
          "base_uri": "https://localhost:8080/"
        },
        "outputId": "4aa573bb-a8df-40da-e627-0dc5c086360f"
      },
      "outputs": [
        {
          "output_type": "stream",
          "name": "stdout",
          "text": [
            "\u001b[2K     \u001b[90m━━━━━━━━━━━━━━━━━━━━━━━━━━━━━━━━━━━━━━━━\u001b[0m \u001b[32m5.1/5.1 MB\u001b[0m \u001b[31m16.7 MB/s\u001b[0m eta \u001b[36m0:00:00\u001b[0m\n",
            "\u001b[?25h\u001b[33m  WARNING: The script tb-gcp-uploader is installed in '/root/.local/bin' which is not on PATH.\n",
            "  Consider adding this directory to PATH or, if you prefer to suppress this warning, use --no-warn-script-location.\u001b[0m\u001b[33m\n",
            "\u001b[0mCollecting fatsecret\n",
            "  Downloading fatsecret-0.4.0-py3-none-any.whl (10 kB)\n",
            "Installing collected packages: fatsecret\n",
            "Successfully installed fatsecret-0.4.0\n",
            "Collecting rauth\n",
            "  Downloading rauth-0.7.3.tar.gz (16 kB)\n",
            "  Preparing metadata (setup.py) ... \u001b[?25l\u001b[?25hdone\n",
            "Requirement already satisfied: requests>=1.2.3 in /usr/local/lib/python3.10/dist-packages (from rauth) (2.31.0)\n",
            "Requirement already satisfied: charset-normalizer<4,>=2 in /usr/local/lib/python3.10/dist-packages (from requests>=1.2.3->rauth) (3.3.2)\n",
            "Requirement already satisfied: idna<4,>=2.5 in /usr/local/lib/python3.10/dist-packages (from requests>=1.2.3->rauth) (3.7)\n",
            "Requirement already satisfied: urllib3<3,>=1.21.1 in /usr/local/lib/python3.10/dist-packages (from requests>=1.2.3->rauth) (2.0.7)\n",
            "Requirement already satisfied: certifi>=2017.4.17 in /usr/local/lib/python3.10/dist-packages (from requests>=1.2.3->rauth) (2024.6.2)\n",
            "Building wheels for collected packages: rauth\n",
            "  Building wheel for rauth (setup.py) ... \u001b[?25l\u001b[?25hdone\n",
            "  Created wheel for rauth: filename=rauth-0.7.3-py3-none-any.whl size=16062 sha256=f67ef8dc265782ad453b778f8a8e8be382368d3ced3322c0b9e9eb55b3d7080d\n",
            "  Stored in directory: /root/.cache/pip/wheels/73/f1/e3/dbb192d15a0eff9f22caac2d25c202b4a0ad20f006dd2e33d5\n",
            "Successfully built rauth\n",
            "Installing collected packages: rauth\n",
            "Successfully installed rauth-0.7.3\n"
          ]
        }
      ],
      "source": []
    },
    {
      "cell_type": "code",
      "execution_count": 3,
      "metadata": {
        "colab": {
          "base_uri": "https://localhost:8080/"
        },
        "id": "mb4I0-qIpUQU",
        "outputId": "1bacab82-b22f-4991-c337-0bb319ca2f9f"
      },
      "outputs": [
        {
          "output_type": "execute_result",
          "data": {
            "text/plain": [
              "{'status': 'ok', 'restart': True}"
            ]
          },
          "metadata": {},
          "execution_count": 3
        }
      ],
      "source": [
        "import IPython\n",
        "import time\n",
        "\n",
        "app = IPython.Application.instance()\n",
        "app.kernel.do_shutdown(True)\n",
        "\n",
        "{'status': 'ok', 'restart': True}"
      ]
    },
    {
      "cell_type": "code",
      "execution_count": 1,
      "metadata": {
        "id": "l-HPKXMukURf"
      },
      "outputs": [],
      "source": [
        "import sys\n",
        "\n",
        "if \"google.colab\" in sys.modules:\n",
        "    from google.colab import auth\n",
        "\n",
        "    auth.authenticate_user()"
      ]
    },
    {
      "cell_type": "code",
      "execution_count": 1,
      "metadata": {
        "id": "2N5L2cPlp3mG"
      },
      "outputs": [],
      "source": [
        "PROJECT_ID = \"studied-brand-426103-q3\"\n",
        "LOCATION = \"us-central1\"\n",
        "\n",
        "import vertexai\n",
        "vertexai.init(project=PROJECT_ID, location=LOCATION)"
      ]
    },
    {
      "cell_type": "code",
      "execution_count": 2,
      "metadata": {
        "id": "m3opQcQPUG3r"
      },
      "outputs": [],
      "source": [
        "import requests\n",
        "from google.colab import files\n",
        "from IPython.display import display, Markdown\n",
        "from vertexai.preview.generative_models import GenerativeModel, Image\n",
        "from vertexai.generative_models import (\n",
        "    Content,\n",
        "    FunctionDeclaration,\n",
        "    GenerationConfig,\n",
        "    GenerativeModel,\n",
        "    Part,\n",
        "    Tool,\n",
        ")"
      ]
    },
    {
      "cell_type": "code",
      "execution_count": 3,
      "metadata": {
        "id": "135RjxOfqKYt"
      },
      "outputs": [],
      "source": [
        "model = GenerativeModel(\"gemini-1.5-pro-001\")"
      ]
    },
    {
      "cell_type": "code",
      "execution_count": 4,
      "metadata": {
        "id": "6di4uMyQZwZs"
      },
      "outputs": [],
      "source": [
        "get_calorie_func = FunctionDeclaration(\n",
        "    name= \"food_analyze_result\",\n",
        "    description= \"Get the analyze of given food\",\n",
        "    parameters= {\n",
        "        \"type\": \"object\",\n",
        "        \"properties\": {\n",
        "            \"food_name\": {\n",
        "                \"type\": \"string\",\n",
        "                \"description\": \"The name of the food from the prompt\"\n",
        "            },\n",
        "            \"calorie\": {\n",
        "                \"type\": \"integer\",\n",
        "                \"description\": \"Estimation of the calorie of the food in Kcal at the result\"\n",
        "            },\n",
        "            \"protein\": {\n",
        "                \"type\": \"integer\",\n",
        "                \"description\": \"Estimation of the protein of the food gram\"\n",
        "            },\n",
        "            \"carbohydrate\": {\n",
        "                \"type\": \"integer\",\n",
        "                \"description\": \"Estimation of the carbohydrate of the food in gram\"\n",
        "            },\n",
        "            \"fat\": {\n",
        "                \"type\": \"integer\",\n",
        "                \"description\": \"Estimation of the fat of the food in gram\"\n",
        "            },\n",
        "            \"vitamin_a\": {\n",
        "                \"type\": \"string\",\n",
        "                \"description\": \"Estimation of the vitamin_a of the food in category like (None,Low,Moderate,High)\"\n",
        "            },\n",
        "            \"vitamin_b\": {\n",
        "                    \"type\": \"string\",\n",
        "                    \"description\": \"Estimation of the vitamin_b of the food\"\n",
        "            },\n",
        "            \"vitamin_c\": {\n",
        "                    \"type\": \"string\",\n",
        "                    \"description\": \"Estimation of the vitamin_c of the food\"\n",
        "            },\n",
        "            \"vitamin_e\": {\n",
        "                    \"type\": \"string\",\n",
        "                    \"description\": \"Estimation of the vitamin_e of the food\"\n",
        "            },\n",
        "            \"calcium\": {\n",
        "                    \"type\": \"string\",\n",
        "                    \"description\": \"Estimation of the calcium of the food\"\n",
        "            },\n",
        "            \"iron\": {\n",
        "                    \"type\": \"string\",\n",
        "                    \"description\": \"Estimation of the iron of the food\"\n",
        "            },\n",
        "            \"pottasium\": {\n",
        "                    \"type\": \"string\",\n",
        "                    \"description\": \"Estimation of the pottasium of the food\"\n",
        "            },\n",
        "            \"sodium\": {\n",
        "                    \"type\": \"string\",\n",
        "                    \"description\": \"Estimation of the sodium of the food\"\n",
        "            },\n",
        "        },\n",
        "            \"required\": [\n",
        "              \"food_name\",\n",
        "              \"calorie\",\n",
        "              \"protein\",\n",
        "              \"carbohydrate\"\n",
        "              \"fat\",\n",
        "              \"vitamin_a\",\n",
        "              \"vitamin_b\",\n",
        "              \"vitamin_c\",\n",
        "              \"vitamin_e\",\n",
        "              \"calcium\",\n",
        "              \"iron\",\n",
        "              \"pottasium\",\n",
        "              \"sodium\"\n",
        "        ]\n",
        "    }\n",
        "\n",
        ")\n",
        "\n",
        "\n"
      ]
    },
    {
      "cell_type": "code",
      "execution_count": 5,
      "metadata": {
        "id": "r7kL9p0yiyuk"
      },
      "outputs": [],
      "source": [
        "calorie_tool = Tool(\n",
        "    function_declarations=[get_calorie_func],\n",
        ")"
      ]
    },
    {
      "cell_type": "code",
      "source": [
        "uploaded = files.upload()\n",
        "IMAGE_FILE = next(iter(uploaded))\n",
        "image = Image.load_from_file(IMAGE_FILE)\n",
        "\n",
        "# Remove image_tool from the contents list\n",
        "response = model.generate_content([\"What is shown in this image?\", image])"
      ],
      "metadata": {
        "colab": {
          "base_uri": "https://localhost:8080/",
          "height": 71
        },
        "id": "qI-8-GslYtGu",
        "outputId": "4f2d163f-3648-455c-e4ce-d0de56befe85"
      },
      "execution_count": 6,
      "outputs": [
        {
          "output_type": "display_data",
          "data": {
            "text/plain": [
              "<IPython.core.display.HTML object>"
            ],
            "text/html": [
              "\n",
              "     <input type=\"file\" id=\"files-264f9bd2-ddb5-4cde-b9ac-65c8646eb638\" name=\"files[]\" multiple disabled\n",
              "        style=\"border:none\" />\n",
              "     <output id=\"result-264f9bd2-ddb5-4cde-b9ac-65c8646eb638\">\n",
              "      Upload widget is only available when the cell has been executed in the\n",
              "      current browser session. Please rerun this cell to enable.\n",
              "      </output>\n",
              "      <script>// Copyright 2017 Google LLC\n",
              "//\n",
              "// Licensed under the Apache License, Version 2.0 (the \"License\");\n",
              "// you may not use this file except in compliance with the License.\n",
              "// You may obtain a copy of the License at\n",
              "//\n",
              "//      http://www.apache.org/licenses/LICENSE-2.0\n",
              "//\n",
              "// Unless required by applicable law or agreed to in writing, software\n",
              "// distributed under the License is distributed on an \"AS IS\" BASIS,\n",
              "// WITHOUT WARRANTIES OR CONDITIONS OF ANY KIND, either express or implied.\n",
              "// See the License for the specific language governing permissions and\n",
              "// limitations under the License.\n",
              "\n",
              "/**\n",
              " * @fileoverview Helpers for google.colab Python module.\n",
              " */\n",
              "(function(scope) {\n",
              "function span(text, styleAttributes = {}) {\n",
              "  const element = document.createElement('span');\n",
              "  element.textContent = text;\n",
              "  for (const key of Object.keys(styleAttributes)) {\n",
              "    element.style[key] = styleAttributes[key];\n",
              "  }\n",
              "  return element;\n",
              "}\n",
              "\n",
              "// Max number of bytes which will be uploaded at a time.\n",
              "const MAX_PAYLOAD_SIZE = 100 * 1024;\n",
              "\n",
              "function _uploadFiles(inputId, outputId) {\n",
              "  const steps = uploadFilesStep(inputId, outputId);\n",
              "  const outputElement = document.getElementById(outputId);\n",
              "  // Cache steps on the outputElement to make it available for the next call\n",
              "  // to uploadFilesContinue from Python.\n",
              "  outputElement.steps = steps;\n",
              "\n",
              "  return _uploadFilesContinue(outputId);\n",
              "}\n",
              "\n",
              "// This is roughly an async generator (not supported in the browser yet),\n",
              "// where there are multiple asynchronous steps and the Python side is going\n",
              "// to poll for completion of each step.\n",
              "// This uses a Promise to block the python side on completion of each step,\n",
              "// then passes the result of the previous step as the input to the next step.\n",
              "function _uploadFilesContinue(outputId) {\n",
              "  const outputElement = document.getElementById(outputId);\n",
              "  const steps = outputElement.steps;\n",
              "\n",
              "  const next = steps.next(outputElement.lastPromiseValue);\n",
              "  return Promise.resolve(next.value.promise).then((value) => {\n",
              "    // Cache the last promise value to make it available to the next\n",
              "    // step of the generator.\n",
              "    outputElement.lastPromiseValue = value;\n",
              "    return next.value.response;\n",
              "  });\n",
              "}\n",
              "\n",
              "/**\n",
              " * Generator function which is called between each async step of the upload\n",
              " * process.\n",
              " * @param {string} inputId Element ID of the input file picker element.\n",
              " * @param {string} outputId Element ID of the output display.\n",
              " * @return {!Iterable<!Object>} Iterable of next steps.\n",
              " */\n",
              "function* uploadFilesStep(inputId, outputId) {\n",
              "  const inputElement = document.getElementById(inputId);\n",
              "  inputElement.disabled = false;\n",
              "\n",
              "  const outputElement = document.getElementById(outputId);\n",
              "  outputElement.innerHTML = '';\n",
              "\n",
              "  const pickedPromise = new Promise((resolve) => {\n",
              "    inputElement.addEventListener('change', (e) => {\n",
              "      resolve(e.target.files);\n",
              "    });\n",
              "  });\n",
              "\n",
              "  const cancel = document.createElement('button');\n",
              "  inputElement.parentElement.appendChild(cancel);\n",
              "  cancel.textContent = 'Cancel upload';\n",
              "  const cancelPromise = new Promise((resolve) => {\n",
              "    cancel.onclick = () => {\n",
              "      resolve(null);\n",
              "    };\n",
              "  });\n",
              "\n",
              "  // Wait for the user to pick the files.\n",
              "  const files = yield {\n",
              "    promise: Promise.race([pickedPromise, cancelPromise]),\n",
              "    response: {\n",
              "      action: 'starting',\n",
              "    }\n",
              "  };\n",
              "\n",
              "  cancel.remove();\n",
              "\n",
              "  // Disable the input element since further picks are not allowed.\n",
              "  inputElement.disabled = true;\n",
              "\n",
              "  if (!files) {\n",
              "    return {\n",
              "      response: {\n",
              "        action: 'complete',\n",
              "      }\n",
              "    };\n",
              "  }\n",
              "\n",
              "  for (const file of files) {\n",
              "    const li = document.createElement('li');\n",
              "    li.append(span(file.name, {fontWeight: 'bold'}));\n",
              "    li.append(span(\n",
              "        `(${file.type || 'n/a'}) - ${file.size} bytes, ` +\n",
              "        `last modified: ${\n",
              "            file.lastModifiedDate ? file.lastModifiedDate.toLocaleDateString() :\n",
              "                                    'n/a'} - `));\n",
              "    const percent = span('0% done');\n",
              "    li.appendChild(percent);\n",
              "\n",
              "    outputElement.appendChild(li);\n",
              "\n",
              "    const fileDataPromise = new Promise((resolve) => {\n",
              "      const reader = new FileReader();\n",
              "      reader.onload = (e) => {\n",
              "        resolve(e.target.result);\n",
              "      };\n",
              "      reader.readAsArrayBuffer(file);\n",
              "    });\n",
              "    // Wait for the data to be ready.\n",
              "    let fileData = yield {\n",
              "      promise: fileDataPromise,\n",
              "      response: {\n",
              "        action: 'continue',\n",
              "      }\n",
              "    };\n",
              "\n",
              "    // Use a chunked sending to avoid message size limits. See b/62115660.\n",
              "    let position = 0;\n",
              "    do {\n",
              "      const length = Math.min(fileData.byteLength - position, MAX_PAYLOAD_SIZE);\n",
              "      const chunk = new Uint8Array(fileData, position, length);\n",
              "      position += length;\n",
              "\n",
              "      const base64 = btoa(String.fromCharCode.apply(null, chunk));\n",
              "      yield {\n",
              "        response: {\n",
              "          action: 'append',\n",
              "          file: file.name,\n",
              "          data: base64,\n",
              "        },\n",
              "      };\n",
              "\n",
              "      let percentDone = fileData.byteLength === 0 ?\n",
              "          100 :\n",
              "          Math.round((position / fileData.byteLength) * 100);\n",
              "      percent.textContent = `${percentDone}% done`;\n",
              "\n",
              "    } while (position < fileData.byteLength);\n",
              "  }\n",
              "\n",
              "  // All done.\n",
              "  yield {\n",
              "    response: {\n",
              "      action: 'complete',\n",
              "    }\n",
              "  };\n",
              "}\n",
              "\n",
              "scope.google = scope.google || {};\n",
              "scope.google.colab = scope.google.colab || {};\n",
              "scope.google.colab._files = {\n",
              "  _uploadFiles,\n",
              "  _uploadFilesContinue,\n",
              "};\n",
              "})(self);\n",
              "</script> "
            ]
          },
          "metadata": {}
        },
        {
          "output_type": "stream",
          "name": "stdout",
          "text": [
            "Saving 5fa3f16d9c1cf.jpg to 5fa3f16d9c1cf.jpg\n"
          ]
        }
      ]
    },
    {
      "cell_type": "code",
      "source": [
        "import json\n",
        "\n",
        "def extract_text_from_response(response: str) -> str:\n",
        "    try:\n",
        "        text = response.candidates[0].content.parts[0].text\n",
        "        return text\n",
        "    except (KeyError, IndexError, json.JSONDecodeError) as e:\n",
        "        print(f\"Error extracting text: {str(e)}\")  # Debug print\n",
        "        return f\"Error extracting text: {str(e)}\"\n",
        "\n",
        "\n",
        "# Extract and print the text from the response\n",
        "extracted_text = extract_text_from_response(response)\n",
        "print(extracted_text)  # Debug print"
      ],
      "metadata": {
        "colab": {
          "base_uri": "https://localhost:8080/"
        },
        "id": "78AJS7ore7Ji",
        "outputId": "57a23ed9-0adf-4c34-999a-0ce1fb69c18e"
      },
      "execution_count": 7,
      "outputs": [
        {
          "output_type": "stream",
          "name": "stdout",
          "text": [
            "This image shows a plate of **Pecel**, a traditional Indonesian salad. \n",
            "\n",
            "Here are the components you can see:\n",
            "\n",
            "* **Steamed vegetables:**  Typically spinach, long beans, bean sprouts, and sometimes cabbage or other greens.\n",
            "* **Peanut sauce (Bumbu Kacang):** A savory and slightly sweet sauce made from ground roasted peanuts, chili peppers, garlic, and other spices. This sauce is generously poured over the vegetables.\n",
            "* **Rice:**  A staple in Indonesian cuisine, served alongside the pecel.\n",
            "* **Tofu and Tempeh:** Fried tofu and tempeh are common additions to pecel, providing a source of protein.\n",
            "* **Rempeyek:**  A crispy cracker made from rice flour and peanuts, adding a satisfying crunch.\n",
            "* **Banana Leaf:** The dish is served on a banana leaf, adding a subtle aroma and a traditional touch.\n",
            "\n",
            "Pecel is a popular and refreshing dish, often enjoyed for breakfast or as a light lunch. \n",
            "\n"
          ]
        }
      ]
    },
    {
      "cell_type": "code",
      "execution_count": 8,
      "metadata": {
        "id": "lHt2TeG_i-mO"
      },
      "outputs": [],
      "source": [
        "prompt = extracted_text\n",
        "\n",
        "response = model.generate_content(\n",
        "    prompt,\n",
        "    tools=[calorie_tool],\n",
        ")"
      ]
    },
    {
      "cell_type": "code",
      "execution_count": 9,
      "metadata": {
        "colab": {
          "base_uri": "https://localhost:8080/"
        },
        "id": "Se6HgimTks6o",
        "outputId": "40bb8f38-8eda-4e52-e105-94f4789ed03c"
      },
      "outputs": [
        {
          "output_type": "execute_result",
          "data": {
            "text/plain": [
              "name: \"food_analyze_result\"\n",
              "args {\n",
              "  fields {\n",
              "    key: \"calcium\"\n",
              "    value {\n",
              "      string_value: \"Moderate\"\n",
              "    }\n",
              "  }\n",
              "  fields {\n",
              "    key: \"calorie\"\n",
              "    value {\n",
              "      number_value: 350.0\n",
              "    }\n",
              "  }\n",
              "  fields {\n",
              "    key: \"carbohydrate\"\n",
              "    value {\n",
              "      number_value: 40.0\n",
              "    }\n",
              "  }\n",
              "  fields {\n",
              "    key: \"fat\"\n",
              "    value {\n",
              "      number_value: 20.0\n",
              "    }\n",
              "  }\n",
              "  fields {\n",
              "    key: \"food_name\"\n",
              "    value {\n",
              "      string_value: \"Pecel\"\n",
              "    }\n",
              "  }\n",
              "  fields {\n",
              "    key: \"iron\"\n",
              "    value {\n",
              "      string_value: \"High\"\n",
              "    }\n",
              "  }\n",
              "  fields {\n",
              "    key: \"pottasium\"\n",
              "    value {\n",
              "      string_value: \"High\"\n",
              "    }\n",
              "  }\n",
              "  fields {\n",
              "    key: \"protein\"\n",
              "    value {\n",
              "      number_value: 15.0\n",
              "    }\n",
              "  }\n",
              "  fields {\n",
              "    key: \"sodium\"\n",
              "    value {\n",
              "      string_value: \"Moderate\"\n",
              "    }\n",
              "  }\n",
              "  fields {\n",
              "    key: \"vitamin_a\"\n",
              "    value {\n",
              "      string_value: \"Moderate\"\n",
              "    }\n",
              "  }\n",
              "  fields {\n",
              "    key: \"vitamin_b\"\n",
              "    value {\n",
              "      string_value: \"High\"\n",
              "    }\n",
              "  }\n",
              "  fields {\n",
              "    key: \"vitamin_c\"\n",
              "    value {\n",
              "      string_value: \"High\"\n",
              "    }\n",
              "  }\n",
              "  fields {\n",
              "    key: \"vitamin_e\"\n",
              "    value {\n",
              "      string_value: \"Moderate\"\n",
              "    }\n",
              "  }\n",
              "}"
            ]
          },
          "metadata": {},
          "execution_count": 9
        }
      ],
      "source": [
        "response.candidates[0].content.parts[0].function_call"
      ]
    },
    {
      "cell_type": "code",
      "source": [
        "paramlist = {}\n",
        "for key, value in response.candidates[0].content.parts[0].function_call.args.items():\n",
        "    paramlist[key] = value\n",
        "paramlist"
      ],
      "metadata": {
        "colab": {
          "base_uri": "https://localhost:8080/"
        },
        "id": "rjs2YXCHl3ey",
        "outputId": "b07cf639-b703-4730-9099-cb8a7c0d057d"
      },
      "execution_count": 10,
      "outputs": [
        {
          "output_type": "execute_result",
          "data": {
            "text/plain": [
              "{'calcium': 'Moderate',\n",
              " 'protein': 15.0,\n",
              " 'food_name': 'Pecel',\n",
              " 'calorie': 350.0,\n",
              " 'vitamin_a': 'Moderate',\n",
              " 'vitamin_e': 'Moderate',\n",
              " 'vitamin_c': 'High',\n",
              " 'vitamin_b': 'High',\n",
              " 'fat': 20.0,\n",
              " 'sodium': 'Moderate',\n",
              " 'pottasium': 'High',\n",
              " 'iron': 'High',\n",
              " 'carbohydrate': 40.0}"
            ]
          },
          "metadata": {},
          "execution_count": 10
        }
      ]
    },
    {
      "cell_type": "code",
      "source": [
        "import requests\n",
        "from requests_oauthlib import OAuth1\n",
        "CONSUMER_KEY = \"92c72ed1c44e4104814e6a770c9ab9fb\"\n",
        "CONSUMER_SECRET = \"72086a184ced4cffaeec16d74ef6b709\"\n",
        "auth = OAuth1(CONSUMER_KEY, CONSUMER_SECRET)\n",
        "params = {\n",
        "    'method' : 'foods.search',\n",
        "    'search_expression' : paramlist['food_name'],\n",
        "    'format' : 'json'\n",
        "}\n",
        "url = \"https://platform.fatsecret.com/rest/server.api\"\n",
        "api_response = requests.get(url, auth=auth, params=params)\n",
        "print(api_response.text)"
      ],
      "metadata": {
        "colab": {
          "base_uri": "https://localhost:8080/"
        },
        "id": "9Mf0mZXzz_FR",
        "outputId": "8c84f880-6e1a-4c0e-e309-447be90eabb2"
      },
      "execution_count": null,
      "outputs": [
        {
          "output_type": "stream",
          "name": "stdout",
          "text": [
            "{ \"error\": {\"code\": 2, \"message\": \"Missing required oauth parameter: oauth_signature_method\" }}\r\n",
            "\n"
          ]
        }
      ]
    },
    {
      "cell_type": "code",
      "source": [
        "from fatsecret import Fatsecret\n",
        "fs = Fatsecret(\"92c72ed1c44e4104814e6a770c9ab9fb\", \"72086a184ced4cffaeec16d74ef6b709\")\n",
        "api_response = fs.foods_search(paramlist['food_name'])\n",
        "print(api_response)"
      ],
      "metadata": {
        "colab": {
          "base_uri": "https://localhost:8080/"
        },
        "id": "WDvNZT1NwvFs",
        "outputId": "c23918dc-55b0-440d-f195-e2f7c0d46e15"
      },
      "execution_count": null,
      "outputs": [
        {
          "output_type": "stream",
          "name": "stdout",
          "text": [
            "[{'food_description': 'Per 4499g - Calories: 6527kcal | Fat: 232.26g | Carbs: 948.16g | Protein: 182.52g', 'food_id': '6712789', 'food_name': 'Nasi Lemak', 'food_type': 'Generic', 'food_url': 'https://www.fatsecret.com/calories-nutrition/generic/nasi-lemak'}, {'food_description': 'Per 300g - Calories: 390kcal | Fat: 0.68g | Carbs: 85.49g | Protein: 7.43g', 'food_id': '14959538', 'food_name': 'Nasi Putih', 'food_type': 'Generic', 'food_url': 'https://www.fatsecret.com/calories-nutrition/generic/rice-nasi-putih'}, {'food_description': 'Per 100g - Calories: 321kcal | Fat: 0.07g | Carbs: 82.74g | Protein: 0.35g', 'food_id': '7277', 'food_name': 'Candied Fruit Peel', 'food_type': 'Generic', 'food_url': 'https://www.fatsecret.com/calories-nutrition/generic/fruit-peel-candied'}, {'food_description': 'Per 180g - Calories: 248kcal | Fat: 12.89g | Carbs: 30.16g | Protein: 3.94g', 'food_id': '5795', 'food_name': 'Stuffed Baked Potato (Peel Not Eaten)', 'food_type': 'Generic', 'food_url': 'https://www.fatsecret.com/calories-nutrition/generic/white-potato-stuffed-baked-peel-not-eaten'}, {'food_description': 'Per 207g - Calories: 288kcal | Fat: 11.10g | Carbs: 38.90g | Protein: 9.54g', 'food_id': '5804', 'food_name': 'Baked Potato Stuffed with Cheese (Peel Eaten)', 'food_type': 'Generic', 'food_url': 'https://www.fatsecret.com/calories-nutrition/generic/white-potato-stuffed-baked-peel-eaten-stuffed-with-cheese'}, {'food_description': 'Per 201g - Calories: 227kcal | Fat: 7.37g | Carbs: 35.94g | Protein: 6.22g', 'food_id': '5798', 'food_name': 'Baked Potato Stuffed with Chili (Peel Not Eaten)', 'food_type': 'Generic', 'food_url': 'https://www.fatsecret.com/calories-nutrition/generic/white-potato-stuffed-baked-peel-not-eaten-stuffed-with-chili'}, {'food_description': 'Per 213g - Calories: 322kcal | Fat: 13.74g | Carbs: 38.98g | Protein: 11.88g', 'food_id': '5808', 'food_name': 'Baked Potato Stuffed with Bacon and Cheese (Peel Eaten)', 'food_type': 'Generic', 'food_url': 'https://www.fatsecret.com/calories-nutrition/generic/white-potato-stuffed-baked-peel-eaten-stuffed-with-bacon-and-cheese'}, {'food_description': 'Per 292g - Calories: 354kcal | Fat: 10.35g | Carbs: 40.67g | Protein: 24.91g', 'food_id': '5810', 'food_name': 'Baked Potato Stuffed with Chicken, Broccoli and Cheese (Peel Eaten)', 'food_type': 'Generic', 'food_url': 'https://www.fatsecret.com/calories-nutrition/generic/white-potato-stuffed-baked-peel-eaten-stuffed-with-chicken-broccoli-and-cheese-sauce'}, {'food_description': 'Per 157g - Calories: 147kcal | Fat: 3.92g | Carbs: 26.85g | Protein: 2.08g', 'food_id': '6126', 'food_name': 'Boiled Sweetpotato (with Peel, Fat Added in Cooking)', 'food_type': 'Generic', 'food_url': 'https://www.fatsecret.com/calories-nutrition/generic/sweetpotato-boiled-with-peel-fat-added-in-cooking'}, {'food_description': 'Per 250g - Calories: 313kcal | Fat: 10.27g | Carbs: 32.33g | Protein: 23.14g', 'food_id': '5801', 'food_name': 'Baked Potato Stuffed with Chicken, Broccoli and Cheese (Peel Not Eaten)', 'food_type': 'Generic', 'food_url': 'https://www.fatsecret.com/calories-nutrition/generic/white-potato-stuffed-baked-peel-not-eaten-stuffed-with-chicken-broccoli-and-cheese-sauce'}, {'brand_name': \"Trader Joe's\", 'food_description': 'Per 1 cup - Calories: 130kcal | Fat: 0.00g | Carbs: 28.00g | Protein: 4.00g', 'food_id': '60582', 'food_name': 'Nasi Goreng', 'food_type': 'Brand', 'food_url': 'https://www.fatsecret.com/calories-nutrition/trader-joes/nasi-goreng'}, {'food_description': 'Per 173g - Calories: 176kcal | Fat: 3.87g | Carbs: 33.51g | Protein: 2.87g', 'food_id': '5726', 'food_name': 'Boiled Potato (without Peel)', 'food_type': 'Generic', 'food_url': 'https://www.fatsecret.com/calories-nutrition/generic/white-potato-boiled-without-peel'}, {'food_description': 'Per 152g - Calories: 199kcal | Fat: 3.93g | Carbs: 38.50g | Protein: 3.67g', 'food_id': '6115', 'food_name': 'Baked Sweetpotato (Peel Eaten)', 'food_type': 'Generic', 'food_url': 'https://www.fatsecret.com/calories-nutrition/generic/sweetpotato-baked-peel-eaten'}, {'food_description': 'Per 174g - Calories: 160kcal | Fat: 0.23g | Carbs: 36.58g | Protein: 4.32g', 'food_id': '5723', 'food_name': 'Baked Potato (Peel Eaten, Fat Not Added in Cooking)', 'food_type': 'Generic', 'food_url': 'https://www.fatsecret.com/calories-nutrition/generic/white-potato-baked-peel-eaten-fat-not-added-in-cooking'}, {'food_description': 'Per 179g - Calories: 195kcal | Fat: 3.93g | Carbs: 36.68g | Protein: 4.34g', 'food_id': '5724', 'food_name': 'Baked Potato (Peel Eaten, Fat Added in Cooking)', 'food_type': 'Generic', 'food_url': 'https://www.fatsecret.com/calories-nutrition/generic/white-potato-baked-peel-eaten-fat-added-in-cooking'}, {'food_description': 'Per 165g - Calories: 249kcal | Fat: 10.99g | Carbs: 30.55g | Protein: 7.79g', 'food_id': '5797', 'food_name': 'Baked Potato Stuffed with Cheese (Peel Not Eaten)', 'food_type': 'Generic', 'food_url': 'https://www.fatsecret.com/calories-nutrition/generic/white-potato-stuffed-baked-peel-not-eaten-stuffed-with-cheese'}, {'food_description': 'Per 243g - Calories: 294kcal | Fat: 10.29g | Carbs: 40.51g | Protein: 10.85g', 'food_id': '5807', 'food_name': 'Baked Potato Stuffed with Meat in Cream Sauce (Peel Eaten)', 'food_type': 'Generic', 'food_url': 'https://www.fatsecret.com/calories-nutrition/generic/white-potato-stuffed-baked-peel-eaten-stuffed-with-meat-in-cream-sauce'}, {'food_description': 'Per 115g - Calories: 102kcal | Fat: 0.17g | Carbs: 23.61g | Protein: 2.29g', 'food_id': '6119', 'food_name': 'Baked Sweetpotato (Peel Not Eaten, Fat Not Added in Cooking)', 'food_type': 'Generic', 'food_url': 'https://www.fatsecret.com/calories-nutrition/generic/sweetpotato-baked-peel-not-eaten-fat-not-added-in-cooking'}, {'food_description': 'Per 152g - Calories: 115kcal | Fat: 0.21g | Carbs: 26.76g | Protein: 2.07g', 'food_id': '6125', 'food_name': 'Boiled Sweetpotato (with Peel, Fat Not Added in Cooking)', 'food_type': 'Generic', 'food_url': 'https://www.fatsecret.com/calories-nutrition/generic/sweetpotato-boiled-with-peel-fat-not-added-in-cooking'}, {'food_description': 'Per 100g - Calories: 62kcal | Fat: 0.20g | Carbs: 13.60g | Protein: 1.40g', 'food_id': '5733', 'food_name': 'Low Sodium Boiled Potato (without Peel, Fat Not Added in Cooking, Canned)', 'food_type': 'Generic', 'food_url': 'https://www.fatsecret.com/calories-nutrition/generic/white-potato-boiled-without-peel-canned-low-sodium-fat-not-added-in-cooking'}]\n"
          ]
        }
      ]
    }
  ],
  "metadata": {
    "colab": {
      "provenance": [],
      "authorship_tag": "ABX9TyORiw+Y/yJAyJciGh2mvfza",
      "include_colab_link": true
    },
    "kernelspec": {
      "display_name": "Python 3",
      "name": "python3"
    },
    "language_info": {
      "name": "python"
    }
  },
  "nbformat": 4,
  "nbformat_minor": 0
}