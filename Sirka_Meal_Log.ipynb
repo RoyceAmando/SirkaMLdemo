{
  "cells": [
    {
      "cell_type": "markdown",
      "metadata": {
        "id": "view-in-github",
        "colab_type": "text"
      },
      "source": [
        "<a href=\"https://colab.research.google.com/github/RoyceAmando/SirkaMLdemo/blob/main/Sirka_Meal_Log.ipynb\" target=\"_parent\"><img src=\"https://colab.research.google.com/assets/colab-badge.svg\" alt=\"Open In Colab\"/></a>"
      ]
    },
    {
      "cell_type": "code",
      "execution_count": null,
      "metadata": {
        "id": "QyCAsl_4kDkB"
      },
      "outputs": [],
      "source": []
    },
    {
      "cell_type": "code",
      "execution_count": null,
      "metadata": {
        "id": "mb4I0-qIpUQU"
      },
      "outputs": [],
      "source": [
        "import IPython\n",
        "import time\n",
        "\n",
        "app = IPython.Application.instance()\n",
        "app.kernel.do_shutdown(True)\n",
        "\n",
        "{'status': 'ok', 'restart': True}"
      ]
    },
    {
      "cell_type": "code",
      "execution_count": null,
      "metadata": {
        "id": "l-HPKXMukURf"
      },
      "outputs": [],
      "source": [
        "import sys\n",
        "\n",
        "if \"google.colab\" in sys.modules:\n",
        "    from google.colab import auth\n",
        "\n",
        "    auth.authenticate_user()"
      ]
    },
    {
      "cell_type": "code",
      "execution_count": null,
      "metadata": {
        "id": "2N5L2cPlp3mG"
      },
      "outputs": [],
      "source": [
        "PROJECT_ID = \"studied-brand-426103-q3\"\n",
        "LOCATION = \"us-central1\"\n",
        "\n",
        "import vertexai\n",
        "vertexai.init(project=PROJECT_ID, location=LOCATION)"
      ]
    },
    {
      "cell_type": "code",
      "execution_count": null,
      "metadata": {
        "id": "m3opQcQPUG3r"
      },
      "outputs": [],
      "source": [
        "import requests\n",
        "from google.colab import files\n",
        "from IPython.display import display, Markdown\n",
        "from vertexai.preview.generative_models import GenerativeModel, Image\n",
        "from vertexai.generative_models import (\n",
        "    Content,\n",
        "    FunctionDeclaration,\n",
        "    GenerationConfig,\n",
        "    GenerativeModel,\n",
        "    Part,\n",
        "    Tool,\n",
        ")"
      ]
    },
    {
      "cell_type": "code",
      "execution_count": null,
      "metadata": {
        "id": "135RjxOfqKYt"
      },
      "outputs": [],
      "source": [
        "model = GenerativeModel(\"gemini-1.5-pro-001\")"
      ]
    },
    {
      "cell_type": "code",
      "execution_count": null,
      "metadata": {
        "id": "6di4uMyQZwZs"
      },
      "outputs": [],
      "source": [
        "get_calorie_func = FunctionDeclaration(\n",
        "    name= \"food_analyze_result\",\n",
        "    description= \"Get the analyze of given food\",\n",
        "    parameters= {\n",
        "        \"type\": \"object\",\n",
        "        \"properties\": {\n",
        "            \"food_name\": {\n",
        "                \"type\": \"string\",\n",
        "                \"description\": \"The name of the food from the prompt\"\n",
        "            },\n",
        "            \"calorie\": {\n",
        "                \"type\": \"integer\",\n",
        "                \"description\": \"Estimation of the calorie of the food in Kcal at the result\"\n",
        "            },\n",
        "            \"protein\": {\n",
        "                \"type\": \"integer\",\n",
        "                \"description\": \"Estimation of the protein of the food gram\"\n",
        "            },\n",
        "            \"carbohydrate\": {\n",
        "                \"type\": \"integer\",\n",
        "                \"description\": \"Estimation of the carbohydrate of the food in gram\"\n",
        "            },\n",
        "            \"fat\": {\n",
        "                \"type\": \"integer\",\n",
        "                \"description\": \"Estimation of the fat of the food in gram\"\n",
        "            },\n",
        "            \"vitamin_a\": {\n",
        "                \"type\": \"string\",\n",
        "                \"description\": \"Estimation of the vitamin_a of the food in category like (None,Low,Moderate,High)\"\n",
        "            },\n",
        "            \"vitamin_b\": {\n",
        "                    \"type\": \"string\",\n",
        "                    \"description\": \"Estimation of the vitamin_b of the food\"\n",
        "            },\n",
        "            \"vitamin_c\": {\n",
        "                    \"type\": \"string\",\n",
        "                    \"description\": \"Estimation of the vitamin_c of the food\"\n",
        "            },\n",
        "            \"vitamin_e\": {\n",
        "                    \"type\": \"string\",\n",
        "                    \"description\": \"Estimation of the vitamin_e of the food\"\n",
        "            },\n",
        "            \"calcium\": {\n",
        "                    \"type\": \"string\",\n",
        "                    \"description\": \"Estimation of the calcium of the food\"\n",
        "            },\n",
        "            \"iron\": {\n",
        "                    \"type\": \"string\",\n",
        "                    \"description\": \"Estimation of the iron of the food\"\n",
        "            },\n",
        "            \"pottasium\": {\n",
        "                    \"type\": \"string\",\n",
        "                    \"description\": \"Estimation of the pottasium of the food\"\n",
        "            },\n",
        "            \"sodium\": {\n",
        "                    \"type\": \"string\",\n",
        "                    \"description\": \"Estimation of the sodium of the food\"\n",
        "            },\n",
        "        },\n",
        "            \"required\": [\n",
        "              \"food_name\",\n",
        "              \"calorie\",\n",
        "              \"protein\",\n",
        "              \"carbohydrate\"\n",
        "              \"fat\",\n",
        "              \"vitamin_a\",\n",
        "              \"vitamin_b\",\n",
        "              \"vitamin_c\",\n",
        "              \"vitamin_e\",\n",
        "              \"calcium\",\n",
        "              \"iron\",\n",
        "              \"pottasium\",\n",
        "              \"sodium\"\n",
        "        ]\n",
        "    }\n",
        "\n",
        ")\n",
        "\n",
        "\n"
      ]
    },
    {
      "cell_type": "code",
      "execution_count": null,
      "metadata": {
        "id": "r7kL9p0yiyuk"
      },
      "outputs": [],
      "source": [
        "calorie_tool = Tool(\n",
        "    function_declarations=[get_calorie_func],\n",
        ")"
      ]
    },
    {
      "cell_type": "code",
      "source": [
        "uploaded = files.upload()\n",
        "IMAGE_FILE = next(iter(uploaded))\n",
        "image = Image.load_from_file(IMAGE_FILE)\n",
        "\n",
        "# Remove image_tool from the contents list\n",
        "response = model.generate_content([\"What is shown in this image?\", image])"
      ],
      "metadata": {
        "id": "qI-8-GslYtGu"
      },
      "execution_count": null,
      "outputs": []
    },
    {
      "cell_type": "code",
      "source": [
        "import json\n",
        "\n",
        "def extract_text_from_response(response: str) -> str:\n",
        "    try:\n",
        "        text = response.candidates[0].content.parts[0].text\n",
        "        return text\n",
        "    except (KeyError, IndexError, json.JSONDecodeError) as e:\n",
        "        print(f\"Error extracting text: {str(e)}\")  # Debug print\n",
        "        return f\"Error extracting text: {str(e)}\"\n",
        "\n",
        "\n",
        "# Extract and print the text from the response\n",
        "extracted_text = extract_text_from_response(response)\n",
        "print(extracted_text)  # Debug print"
      ],
      "metadata": {
        "id": "78AJS7ore7Ji"
      },
      "execution_count": null,
      "outputs": []
    },
    {
      "cell_type": "code",
      "execution_count": null,
      "metadata": {
        "id": "lHt2TeG_i-mO"
      },
      "outputs": [],
      "source": [
        "prompt = extracted_text\n",
        "\n",
        "response = model.generate_content(\n",
        "    prompt,\n",
        "    tools=[calorie_tool],\n",
        ")"
      ]
    },
    {
      "cell_type": "code",
      "execution_count": null,
      "metadata": {
        "id": "Se6HgimTks6o"
      },
      "outputs": [],
      "source": [
        "response.candidates[0].content.parts[0].function_call"
      ]
    },
    {
      "cell_type": "code",
      "source": [
        "paramlist = {}\n",
        "for key, value in response.candidates[0].content.parts[0].function_call.args.items():\n",
        "    paramlist[key] = value\n",
        "paramlist"
      ],
      "metadata": {
        "id": "rjs2YXCHl3ey"
      },
      "execution_count": null,
      "outputs": []
    }
  ],
  "metadata": {
    "colab": {
      "provenance": [],
      "authorship_tag": "ABX9TyNcpgA2y0+hd+7+skgKiO8S",
      "include_colab_link": true
    },
    "kernelspec": {
      "display_name": "Python 3",
      "name": "python3"
    },
    "language_info": {
      "name": "python"
    }
  },
  "nbformat": 4,
  "nbformat_minor": 0
}